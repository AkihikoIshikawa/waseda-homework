{
 "cells": [
  {
   "cell_type": "markdown",
   "metadata": {
    "id": "final_exam"
   },
   "source": [
    "# 総合添削問題2 Pandas編"
   ]
  },
  {
   "cell_type": "markdown",
   "metadata": {
    "id": "description"
   },
   "source": [
    "Pandas編の総合添削課題では今までに学んだPandasの機能を用いて商取引データの分析を行います。用いるデータセットはカリフォルニア大学アーバイン校（UCI）が提供している、イギリスでの小売取引データである「Online Retail Data Set」です。「Online Retail Data Set」を用いてパレートの法則が成り立っているかを検証します。パレートの法則とは、「経済において全体の2割の所得者が社会全体の8割の所得を占める」とする経験則です。小売におけるパレートの法則は「全体の2割の顧客が、全売上の8割を占める」ことです。"
   ]
  },
  {
   "cell_type": "markdown",
   "metadata": {},
   "source": [
    "#### 問題"
   ]
  },
  {
   "cell_type": "markdown",
   "metadata": {
    "id": "question"
   },
   "source": [
    "- データセットを読み込み、キャンセルおよび欠損のある行データが削除されたDataFrameが`online_retail_df`として用意されています。\n",
    "- `online_retail_df`の各注文（行）について、\"Quantity\"（個数）列と\"UnitPrice\"（単価）列の値の積を計算し、新しく\"TotalPrice\"（合計額）を作りそこに格納してください。\n",
    "- \"CustomerID\"（顧客ID）列は顧客固有の番号です。同じ顧客が複数注文している場合があるので、顧客ごとにグループ分けし、顧客ごとの合計額の和を求めてください。これが顧客ごとの売り上げになります。\n",
    "- 売り上げが少ない順に顧客を並び替え、売り上げの累積和をリスト型にして変数`y`に代入してください。顧客の人数(整数値)を変数`x`に代入してください。"
   ]
  },
  {
   "cell_type": "code",
   "execution_count": null,
   "metadata": {
    "collapsed": true,
    "id": "index"
   },
   "outputs": [],
   "source": [
    "import matplotlib.pyplot as plt\n",
    "import numpy as np\n",
    "import pandas as pd\n",
    "%matplotlib inline\n",
    "\n",
    "url = \"http://archive.ics.uci.edu/ml/machine-learning-databases/00352/Online%20Retail.xlsx\"\n",
    "# データのDataFrameへの読み込み\n",
    "online_retail_xlsx = pd.ExcelFile(url)\n",
    "online_retail_raw = online_retail_xlsx.parse('Online Retail')\n",
    "\n",
    "# キャンセル記録および欠損があるデータを削除\n",
    "online_retail_raw['cancel_flg'] = online_retail_raw.InvoiceNo.map(lambda x:str(x)[0])\n",
    "online_retail_df = online_retail_raw[(online_retail_raw.cancel_flg == '5') &\n",
    "                                    online_retail_raw.CustomerID.notnull()]\n",
    "'''\n",
    "\n",
    "ここにコードを書いてください\n",
    "\n",
    "'''\n",
    "\n",
    "\n",
    "# xに顧客の人数を代入してください\n",
    "\n",
    "\n",
    "# yに顧客ごとの売り上げの累積和をリスト型で代入してください\n",
    "\n",
    "\n",
    "# 以下、可視化の作業です\n",
    "\n",
    "# 累積和の最後の項が1になるようにします\n",
    "x = np.arange(x) / x\n",
    "y = np.array(y) / y[len(y)-1]\n",
    "\n",
    "# グラフの要素に名前をつけます\n",
    "plt.title(\"Distribution of earings\")\n",
    "plt.xlabel(\"Cumulative sum of customers\")\n",
    "plt.ylabel(\"Cumulative sum of earings\")\n",
    "plt.axvline(x=0.8, linestyle='--')\n",
    "plt.axhline(y=0.2, linestyle='--')\n",
    "plt.plot(x, y)\n",
    "plt.show()"
   ]
  },
  {
   "cell_type": "markdown",
   "metadata": {},
   "source": [
    "#### ヒント"
   ]
  },
  {
   "cell_type": "markdown",
   "metadata": {
    "id": "hint"
   },
   "source": [
    "- DataFrame型\n",
    "- DataFrame型の変数`df`のインデックス参照は`df.iloc[番号]`にて行うことができます"
   ]
  },
  {
   "cell_type": "markdown",
   "metadata": {},
   "source": [
    "### 講座を終えてのアンケート"
   ]
  },
  {
   "cell_type": "markdown",
   "metadata": {
    "id": "commentary"
   },
   "source": [
    "以下のアドレスからアンケートにご協力頂きたく存じます。<br>\n",
    "ご回答のほど、よろしくお願いいたします。\n",
    "\n",
    "https://goo.gl/forms/WHjJQYeodIndRvyz2"
   ]
  },
  {
   "cell_type": "markdown",
   "metadata": {},
   "source": [
    "***"
   ]
  }
 ],
 "metadata": {
  "celltoolbar": "Edit Metadata",
  "kernelspec": {
   "display_name": "Python 3",
   "language": "python",
   "name": "python3"
  },
  "language_info": {
   "codemirror_mode": {
    "name": "ipython",
    "version": 3
   },
   "file_extension": ".py",
   "mimetype": "text/x-python",
   "name": "python",
   "nbconvert_exporter": "python",
   "pygments_lexer": "ipython3",
   "version": "3.6.0"
  }
 },
 "nbformat": 4,
 "nbformat_minor": 2
}
